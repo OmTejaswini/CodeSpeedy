{
 "cells": [
  {
   "cell_type": "markdown",
   "id": "1288e65f",
   "metadata": {},
   "source": [
    "### Importing necessary libraries"
   ]
  },
  {
   "cell_type": "code",
   "execution_count": 1,
   "id": "609128a0",
   "metadata": {},
   "outputs": [],
   "source": [
    "import pandas as pd\n",
    "import numpy as np\n",
    "from sklearn.model_selection import train_test_split\n",
    "from sklearn.preprocessing import StandardScaler\n",
    "import tensorflow as tf\n",
    "from tensorflow.keras.models import Sequential\n",
    "from tensorflow.keras.layers import Dense"
   ]
  },
  {
   "cell_type": "markdown",
   "id": "815d16fb",
   "metadata": {},
   "source": [
    "### Reading the dataset"
   ]
  },
  {
   "cell_type": "code",
   "execution_count": 2,
   "id": "0da163ed",
   "metadata": {},
   "outputs": [
    {
     "data": {
      "text/html": [
       "<div>\n",
       "<style scoped>\n",
       "    .dataframe tbody tr th:only-of-type {\n",
       "        vertical-align: middle;\n",
       "    }\n",
       "\n",
       "    .dataframe tbody tr th {\n",
       "        vertical-align: top;\n",
       "    }\n",
       "\n",
       "    .dataframe thead th {\n",
       "        text-align: right;\n",
       "    }\n",
       "</style>\n",
       "<table border=\"1\" class=\"dataframe\">\n",
       "  <thead>\n",
       "    <tr style=\"text-align: right;\">\n",
       "      <th></th>\n",
       "      <th>Serial No.</th>\n",
       "      <th>GRE Score</th>\n",
       "      <th>TOEFL Score</th>\n",
       "      <th>University Rating</th>\n",
       "      <th>SOP</th>\n",
       "      <th>LOR</th>\n",
       "      <th>CGPA</th>\n",
       "      <th>Research</th>\n",
       "      <th>Chance of Admit</th>\n",
       "    </tr>\n",
       "  </thead>\n",
       "  <tbody>\n",
       "    <tr>\n",
       "      <th>0</th>\n",
       "      <td>1</td>\n",
       "      <td>337</td>\n",
       "      <td>118</td>\n",
       "      <td>4</td>\n",
       "      <td>4.5</td>\n",
       "      <td>4.5</td>\n",
       "      <td>9.65</td>\n",
       "      <td>1</td>\n",
       "      <td>0.92</td>\n",
       "    </tr>\n",
       "    <tr>\n",
       "      <th>1</th>\n",
       "      <td>2</td>\n",
       "      <td>324</td>\n",
       "      <td>107</td>\n",
       "      <td>4</td>\n",
       "      <td>4.0</td>\n",
       "      <td>4.5</td>\n",
       "      <td>8.87</td>\n",
       "      <td>1</td>\n",
       "      <td>0.76</td>\n",
       "    </tr>\n",
       "    <tr>\n",
       "      <th>2</th>\n",
       "      <td>3</td>\n",
       "      <td>316</td>\n",
       "      <td>104</td>\n",
       "      <td>3</td>\n",
       "      <td>3.0</td>\n",
       "      <td>3.5</td>\n",
       "      <td>8.00</td>\n",
       "      <td>1</td>\n",
       "      <td>0.72</td>\n",
       "    </tr>\n",
       "    <tr>\n",
       "      <th>3</th>\n",
       "      <td>4</td>\n",
       "      <td>322</td>\n",
       "      <td>110</td>\n",
       "      <td>3</td>\n",
       "      <td>3.5</td>\n",
       "      <td>2.5</td>\n",
       "      <td>8.67</td>\n",
       "      <td>1</td>\n",
       "      <td>0.80</td>\n",
       "    </tr>\n",
       "    <tr>\n",
       "      <th>4</th>\n",
       "      <td>5</td>\n",
       "      <td>314</td>\n",
       "      <td>103</td>\n",
       "      <td>2</td>\n",
       "      <td>2.0</td>\n",
       "      <td>3.0</td>\n",
       "      <td>8.21</td>\n",
       "      <td>0</td>\n",
       "      <td>0.65</td>\n",
       "    </tr>\n",
       "  </tbody>\n",
       "</table>\n",
       "</div>"
      ],
      "text/plain": [
       "   Serial No.  GRE Score  TOEFL Score  University Rating  SOP  LOR   CGPA  \\\n",
       "0           1        337          118                  4  4.5   4.5  9.65   \n",
       "1           2        324          107                  4  4.0   4.5  8.87   \n",
       "2           3        316          104                  3  3.0   3.5  8.00   \n",
       "3           4        322          110                  3  3.5   2.5  8.67   \n",
       "4           5        314          103                  2  2.0   3.0  8.21   \n",
       "\n",
       "   Research  Chance of Admit   \n",
       "0         1              0.92  \n",
       "1         1              0.76  \n",
       "2         1              0.72  \n",
       "3         1              0.80  \n",
       "4         0              0.65  "
      ]
     },
     "execution_count": 2,
     "metadata": {},
     "output_type": "execute_result"
    }
   ],
   "source": [
    "df = pd.read_csv('AdmissionsData.csv')\n",
    "df.head()"
   ]
  },
  {
   "cell_type": "markdown",
   "id": "f11aa2b2",
   "metadata": {},
   "source": [
    "### Drop unnecessary columns"
   ]
  },
  {
   "cell_type": "code",
   "execution_count": 3,
   "id": "190e2fe1",
   "metadata": {
    "scrolled": true
   },
   "outputs": [
    {
     "data": {
      "text/html": [
       "<div>\n",
       "<style scoped>\n",
       "    .dataframe tbody tr th:only-of-type {\n",
       "        vertical-align: middle;\n",
       "    }\n",
       "\n",
       "    .dataframe tbody tr th {\n",
       "        vertical-align: top;\n",
       "    }\n",
       "\n",
       "    .dataframe thead th {\n",
       "        text-align: right;\n",
       "    }\n",
       "</style>\n",
       "<table border=\"1\" class=\"dataframe\">\n",
       "  <thead>\n",
       "    <tr style=\"text-align: right;\">\n",
       "      <th></th>\n",
       "      <th>GRE Score</th>\n",
       "      <th>TOEFL Score</th>\n",
       "      <th>University Rating</th>\n",
       "      <th>SOP</th>\n",
       "      <th>LOR</th>\n",
       "      <th>CGPA</th>\n",
       "      <th>Research</th>\n",
       "      <th>Chance of Admit</th>\n",
       "    </tr>\n",
       "  </thead>\n",
       "  <tbody>\n",
       "    <tr>\n",
       "      <th>0</th>\n",
       "      <td>337</td>\n",
       "      <td>118</td>\n",
       "      <td>4</td>\n",
       "      <td>4.5</td>\n",
       "      <td>4.5</td>\n",
       "      <td>9.65</td>\n",
       "      <td>1</td>\n",
       "      <td>0.92</td>\n",
       "    </tr>\n",
       "    <tr>\n",
       "      <th>1</th>\n",
       "      <td>324</td>\n",
       "      <td>107</td>\n",
       "      <td>4</td>\n",
       "      <td>4.0</td>\n",
       "      <td>4.5</td>\n",
       "      <td>8.87</td>\n",
       "      <td>1</td>\n",
       "      <td>0.76</td>\n",
       "    </tr>\n",
       "    <tr>\n",
       "      <th>2</th>\n",
       "      <td>316</td>\n",
       "      <td>104</td>\n",
       "      <td>3</td>\n",
       "      <td>3.0</td>\n",
       "      <td>3.5</td>\n",
       "      <td>8.00</td>\n",
       "      <td>1</td>\n",
       "      <td>0.72</td>\n",
       "    </tr>\n",
       "    <tr>\n",
       "      <th>3</th>\n",
       "      <td>322</td>\n",
       "      <td>110</td>\n",
       "      <td>3</td>\n",
       "      <td>3.5</td>\n",
       "      <td>2.5</td>\n",
       "      <td>8.67</td>\n",
       "      <td>1</td>\n",
       "      <td>0.80</td>\n",
       "    </tr>\n",
       "    <tr>\n",
       "      <th>4</th>\n",
       "      <td>314</td>\n",
       "      <td>103</td>\n",
       "      <td>2</td>\n",
       "      <td>2.0</td>\n",
       "      <td>3.0</td>\n",
       "      <td>8.21</td>\n",
       "      <td>0</td>\n",
       "      <td>0.65</td>\n",
       "    </tr>\n",
       "  </tbody>\n",
       "</table>\n",
       "</div>"
      ],
      "text/plain": [
       "   GRE Score  TOEFL Score  University Rating  SOP  LOR   CGPA  Research  \\\n",
       "0        337          118                  4  4.5   4.5  9.65         1   \n",
       "1        324          107                  4  4.0   4.5  8.87         1   \n",
       "2        316          104                  3  3.0   3.5  8.00         1   \n",
       "3        322          110                  3  3.5   2.5  8.67         1   \n",
       "4        314          103                  2  2.0   3.0  8.21         0   \n",
       "\n",
       "   Chance of Admit   \n",
       "0              0.92  \n",
       "1              0.76  \n",
       "2              0.72  \n",
       "3              0.80  \n",
       "4              0.65  "
      ]
     },
     "execution_count": 3,
     "metadata": {},
     "output_type": "execute_result"
    }
   ],
   "source": [
    "df = df.drop(columns=['Serial No.'])\n",
    "df.head()"
   ]
  },
  {
   "cell_type": "markdown",
   "id": "ae7a1001",
   "metadata": {},
   "source": [
    "### Split the dataset into features and target variables"
   ]
  },
  {
   "cell_type": "code",
   "execution_count": 4,
   "id": "dc425bad",
   "metadata": {},
   "outputs": [],
   "source": [
    "X = df.drop(columns=['Chance of Admit '])\n",
    "y = df['Chance of Admit ']"
   ]
  },
  {
   "cell_type": "markdown",
   "id": "39a69491",
   "metadata": {},
   "source": [
    "### Standardize the features"
   ]
  },
  {
   "cell_type": "code",
   "execution_count": 5,
   "id": "4d9db4e8",
   "metadata": {},
   "outputs": [],
   "source": [
    "scaler = StandardScaler()\n",
    "X_scaled = scaler.fit_transform(X)"
   ]
  },
  {
   "cell_type": "markdown",
   "id": "2ff44235",
   "metadata": {},
   "source": [
    "### Split the data into training and testing sets"
   ]
  },
  {
   "cell_type": "code",
   "execution_count": 6,
   "id": "d1a7562d",
   "metadata": {},
   "outputs": [],
   "source": [
    "X_train, X_test, y_train, y_test = train_test_split(X_scaled, y, test_size=0.2, random_state=42)"
   ]
  },
  {
   "cell_type": "markdown",
   "id": "9035aa6b",
   "metadata": {},
   "source": [
    "### Building and compiling the model"
   ]
  },
  {
   "cell_type": "code",
   "execution_count": 7,
   "id": "6cee8384",
   "metadata": {},
   "outputs": [
    {
     "name": "stdout",
     "output_type": "stream",
     "text": [
      "Model: \"sequential\"\n",
      "_________________________________________________________________\n",
      " Layer (type)                Output Shape              Param #   \n",
      "=================================================================\n",
      " dense (Dense)               (None, 64)                512       \n",
      "                                                                 \n",
      " dense_1 (Dense)             (None, 32)                2080      \n",
      "                                                                 \n",
      " dense_2 (Dense)             (None, 1)                 33        \n",
      "                                                                 \n",
      "=================================================================\n",
      "Total params: 2,625\n",
      "Trainable params: 2,625\n",
      "Non-trainable params: 0\n",
      "_________________________________________________________________\n"
     ]
    }
   ],
   "source": [
    "model = Sequential()\n",
    "model.add(Dense(64, input_dim=X_train.shape[1], activation='relu'))\n",
    "model.add(Dense(32, activation='relu'))\n",
    "model.add(Dense(1, activation='sigmoid'))\n",
    "model.compile(loss='mean_squared_error', optimizer='adam', metrics=['mae'])\n",
    "model.summary()"
   ]
  },
  {
   "cell_type": "markdown",
   "id": "6f9c1757",
   "metadata": {},
   "source": [
    "### Train the model"
   ]
  },
  {
   "cell_type": "code",
   "execution_count": 8,
   "id": "dd7e4055",
   "metadata": {
    "scrolled": true
   },
   "outputs": [
    {
     "name": "stdout",
     "output_type": "stream",
     "text": [
      "Epoch 1/100\n",
      "26/26 [==============================] - 2s 25ms/step - loss: 0.0286 - mae: 0.1384 - val_loss: 0.0107 - val_mae: 0.0773\n",
      "Epoch 2/100\n",
      "26/26 [==============================] - 0s 6ms/step - loss: 0.0076 - mae: 0.0692 - val_loss: 0.0069 - val_mae: 0.0565\n",
      "Epoch 3/100\n",
      "26/26 [==============================] - 0s 6ms/step - loss: 0.0059 - mae: 0.0600 - val_loss: 0.0055 - val_mae: 0.0514\n",
      "Epoch 4/100\n",
      "26/26 [==============================] - 0s 6ms/step - loss: 0.0051 - mae: 0.0548 - val_loss: 0.0049 - val_mae: 0.0496\n",
      "Epoch 5/100\n",
      "26/26 [==============================] - 0s 6ms/step - loss: 0.0047 - mae: 0.0521 - val_loss: 0.0047 - val_mae: 0.0483\n",
      "Epoch 6/100\n",
      "26/26 [==============================] - 0s 6ms/step - loss: 0.0045 - mae: 0.0494 - val_loss: 0.0044 - val_mae: 0.0469\n",
      "Epoch 7/100\n",
      "26/26 [==============================] - 0s 6ms/step - loss: 0.0043 - mae: 0.0485 - val_loss: 0.0041 - val_mae: 0.0459\n",
      "Epoch 8/100\n",
      "26/26 [==============================] - 0s 6ms/step - loss: 0.0041 - mae: 0.0477 - val_loss: 0.0041 - val_mae: 0.0443\n",
      "Epoch 9/100\n",
      "26/26 [==============================] - 0s 6ms/step - loss: 0.0042 - mae: 0.0471 - val_loss: 0.0039 - val_mae: 0.0440\n",
      "Epoch 10/100\n",
      "26/26 [==============================] - 0s 5ms/step - loss: 0.0040 - mae: 0.0460 - val_loss: 0.0037 - val_mae: 0.0426\n",
      "Epoch 11/100\n",
      "26/26 [==============================] - 0s 6ms/step - loss: 0.0039 - mae: 0.0446 - val_loss: 0.0036 - val_mae: 0.0433\n",
      "Epoch 12/100\n",
      "26/26 [==============================] - 0s 6ms/step - loss: 0.0036 - mae: 0.0433 - val_loss: 0.0035 - val_mae: 0.0426\n",
      "Epoch 13/100\n",
      "26/26 [==============================] - 0s 6ms/step - loss: 0.0036 - mae: 0.0438 - val_loss: 0.0034 - val_mae: 0.0412\n",
      "Epoch 14/100\n",
      "26/26 [==============================] - 0s 6ms/step - loss: 0.0036 - mae: 0.0431 - val_loss: 0.0034 - val_mae: 0.0421\n",
      "Epoch 15/100\n",
      "26/26 [==============================] - 0s 6ms/step - loss: 0.0034 - mae: 0.0418 - val_loss: 0.0033 - val_mae: 0.0423\n",
      "Epoch 16/100\n",
      "26/26 [==============================] - 0s 6ms/step - loss: 0.0034 - mae: 0.0416 - val_loss: 0.0032 - val_mae: 0.0395\n",
      "Epoch 17/100\n",
      "26/26 [==============================] - 0s 6ms/step - loss: 0.0033 - mae: 0.0411 - val_loss: 0.0030 - val_mae: 0.0387\n",
      "Epoch 18/100\n",
      "26/26 [==============================] - 0s 6ms/step - loss: 0.0032 - mae: 0.0407 - val_loss: 0.0030 - val_mae: 0.0395\n",
      "Epoch 19/100\n",
      "26/26 [==============================] - 0s 6ms/step - loss: 0.0031 - mae: 0.0401 - val_loss: 0.0031 - val_mae: 0.0390\n",
      "Epoch 20/100\n",
      "26/26 [==============================] - 0s 6ms/step - loss: 0.0032 - mae: 0.0400 - val_loss: 0.0029 - val_mae: 0.0388\n",
      "Epoch 21/100\n",
      "26/26 [==============================] - 0s 6ms/step - loss: 0.0031 - mae: 0.0402 - val_loss: 0.0031 - val_mae: 0.0398\n",
      "Epoch 22/100\n",
      "26/26 [==============================] - 0s 6ms/step - loss: 0.0030 - mae: 0.0390 - val_loss: 0.0029 - val_mae: 0.0393\n",
      "Epoch 23/100\n",
      "26/26 [==============================] - 0s 6ms/step - loss: 0.0029 - mae: 0.0400 - val_loss: 0.0030 - val_mae: 0.0395\n",
      "Epoch 24/100\n",
      "26/26 [==============================] - 0s 6ms/step - loss: 0.0029 - mae: 0.0381 - val_loss: 0.0030 - val_mae: 0.0401\n",
      "Epoch 25/100\n",
      "26/26 [==============================] - 0s 6ms/step - loss: 0.0030 - mae: 0.0396 - val_loss: 0.0032 - val_mae: 0.0406\n",
      "Epoch 26/100\n",
      "26/26 [==============================] - 0s 6ms/step - loss: 0.0028 - mae: 0.0384 - val_loss: 0.0030 - val_mae: 0.0394\n",
      "Epoch 27/100\n",
      "26/26 [==============================] - 0s 6ms/step - loss: 0.0029 - mae: 0.0382 - val_loss: 0.0030 - val_mae: 0.0395\n",
      "Epoch 28/100\n",
      "26/26 [==============================] - 0s 6ms/step - loss: 0.0027 - mae: 0.0370 - val_loss: 0.0032 - val_mae: 0.0416\n",
      "Epoch 29/100\n",
      "26/26 [==============================] - 0s 6ms/step - loss: 0.0027 - mae: 0.0374 - val_loss: 0.0029 - val_mae: 0.0385\n",
      "Epoch 30/100\n",
      "26/26 [==============================] - 0s 6ms/step - loss: 0.0026 - mae: 0.0367 - val_loss: 0.0030 - val_mae: 0.0394\n",
      "Epoch 31/100\n",
      "26/26 [==============================] - 0s 6ms/step - loss: 0.0026 - mae: 0.0370 - val_loss: 0.0030 - val_mae: 0.0392\n",
      "Epoch 32/100\n",
      "26/26 [==============================] - 0s 5ms/step - loss: 0.0026 - mae: 0.0362 - val_loss: 0.0029 - val_mae: 0.0393\n",
      "Epoch 33/100\n",
      "26/26 [==============================] - 0s 6ms/step - loss: 0.0026 - mae: 0.0368 - val_loss: 0.0030 - val_mae: 0.0395\n",
      "Epoch 34/100\n",
      "26/26 [==============================] - 0s 6ms/step - loss: 0.0025 - mae: 0.0361 - val_loss: 0.0030 - val_mae: 0.0399\n",
      "Epoch 35/100\n",
      "26/26 [==============================] - 0s 6ms/step - loss: 0.0025 - mae: 0.0354 - val_loss: 0.0031 - val_mae: 0.0400\n",
      "Epoch 36/100\n",
      "26/26 [==============================] - 0s 5ms/step - loss: 0.0024 - mae: 0.0352 - val_loss: 0.0030 - val_mae: 0.0404\n",
      "Epoch 37/100\n",
      "26/26 [==============================] - 0s 5ms/step - loss: 0.0024 - mae: 0.0351 - val_loss: 0.0031 - val_mae: 0.0409\n",
      "Epoch 38/100\n",
      "26/26 [==============================] - 0s 5ms/step - loss: 0.0023 - mae: 0.0349 - val_loss: 0.0031 - val_mae: 0.0406\n",
      "Epoch 39/100\n",
      "26/26 [==============================] - 0s 5ms/step - loss: 0.0024 - mae: 0.0352 - val_loss: 0.0029 - val_mae: 0.0391\n",
      "Epoch 40/100\n",
      "26/26 [==============================] - 0s 5ms/step - loss: 0.0023 - mae: 0.0349 - val_loss: 0.0031 - val_mae: 0.0393\n",
      "Epoch 41/100\n",
      "26/26 [==============================] - 0s 5ms/step - loss: 0.0023 - mae: 0.0340 - val_loss: 0.0030 - val_mae: 0.0402\n",
      "Epoch 42/100\n",
      "26/26 [==============================] - 0s 6ms/step - loss: 0.0023 - mae: 0.0353 - val_loss: 0.0029 - val_mae: 0.0375\n",
      "Epoch 43/100\n",
      "26/26 [==============================] - 0s 5ms/step - loss: 0.0022 - mae: 0.0338 - val_loss: 0.0033 - val_mae: 0.0419\n",
      "Epoch 44/100\n",
      "26/26 [==============================] - 0s 5ms/step - loss: 0.0022 - mae: 0.0341 - val_loss: 0.0031 - val_mae: 0.0411\n",
      "Epoch 45/100\n",
      "26/26 [==============================] - 0s 5ms/step - loss: 0.0021 - mae: 0.0327 - val_loss: 0.0032 - val_mae: 0.0416\n",
      "Epoch 46/100\n",
      "26/26 [==============================] - 0s 5ms/step - loss: 0.0021 - mae: 0.0337 - val_loss: 0.0033 - val_mae: 0.0422\n",
      "Epoch 47/100\n",
      "26/26 [==============================] - 0s 5ms/step - loss: 0.0022 - mae: 0.0334 - val_loss: 0.0033 - val_mae: 0.0419\n",
      "Epoch 48/100\n",
      "26/26 [==============================] - 0s 5ms/step - loss: 0.0020 - mae: 0.0324 - val_loss: 0.0031 - val_mae: 0.0391\n",
      "Epoch 49/100\n",
      "26/26 [==============================] - 0s 5ms/step - loss: 0.0021 - mae: 0.0331 - val_loss: 0.0031 - val_mae: 0.0396\n",
      "Epoch 50/100\n",
      "26/26 [==============================] - 0s 5ms/step - loss: 0.0020 - mae: 0.0316 - val_loss: 0.0032 - val_mae: 0.0413\n",
      "Epoch 51/100\n",
      "26/26 [==============================] - 0s 5ms/step - loss: 0.0019 - mae: 0.0315 - val_loss: 0.0031 - val_mae: 0.0403\n",
      "Epoch 52/100\n",
      "26/26 [==============================] - 0s 5ms/step - loss: 0.0019 - mae: 0.0306 - val_loss: 0.0033 - val_mae: 0.0424\n",
      "Epoch 53/100\n",
      "26/26 [==============================] - 0s 5ms/step - loss: 0.0019 - mae: 0.0310 - val_loss: 0.0034 - val_mae: 0.0424\n",
      "Epoch 54/100\n",
      "26/26 [==============================] - 0s 5ms/step - loss: 0.0018 - mae: 0.0309 - val_loss: 0.0035 - val_mae: 0.0435\n",
      "Epoch 55/100\n",
      "26/26 [==============================] - 0s 5ms/step - loss: 0.0021 - mae: 0.0326 - val_loss: 0.0037 - val_mae: 0.0439\n",
      "Epoch 56/100\n",
      "26/26 [==============================] - 0s 6ms/step - loss: 0.0018 - mae: 0.0305 - val_loss: 0.0036 - val_mae: 0.0438\n",
      "Epoch 57/100\n",
      "26/26 [==============================] - 0s 5ms/step - loss: 0.0017 - mae: 0.0296 - val_loss: 0.0036 - val_mae: 0.0439\n",
      "Epoch 58/100\n",
      "26/26 [==============================] - 0s 5ms/step - loss: 0.0017 - mae: 0.0294 - val_loss: 0.0032 - val_mae: 0.0414\n",
      "Epoch 59/100\n",
      "26/26 [==============================] - 0s 5ms/step - loss: 0.0017 - mae: 0.0304 - val_loss: 0.0037 - val_mae: 0.0441\n",
      "Epoch 60/100\n",
      "26/26 [==============================] - 0s 5ms/step - loss: 0.0019 - mae: 0.0311 - val_loss: 0.0035 - val_mae: 0.0432\n",
      "Epoch 61/100\n",
      "26/26 [==============================] - 0s 6ms/step - loss: 0.0017 - mae: 0.0301 - val_loss: 0.0038 - val_mae: 0.0443\n",
      "Epoch 62/100\n",
      "26/26 [==============================] - 0s 6ms/step - loss: 0.0017 - mae: 0.0301 - val_loss: 0.0036 - val_mae: 0.0426\n",
      "Epoch 63/100\n"
     ]
    },
    {
     "name": "stdout",
     "output_type": "stream",
     "text": [
      "26/26 [==============================] - 0s 5ms/step - loss: 0.0016 - mae: 0.0289 - val_loss: 0.0035 - val_mae: 0.0428\n",
      "Epoch 64/100\n",
      "26/26 [==============================] - 0s 5ms/step - loss: 0.0016 - mae: 0.0289 - val_loss: 0.0036 - val_mae: 0.0433\n",
      "Epoch 65/100\n",
      "26/26 [==============================] - 0s 5ms/step - loss: 0.0017 - mae: 0.0299 - val_loss: 0.0035 - val_mae: 0.0416\n",
      "Epoch 66/100\n",
      "26/26 [==============================] - 0s 6ms/step - loss: 0.0015 - mae: 0.0279 - val_loss: 0.0036 - val_mae: 0.0435\n",
      "Epoch 67/100\n",
      "26/26 [==============================] - 0s 6ms/step - loss: 0.0014 - mae: 0.0279 - val_loss: 0.0035 - val_mae: 0.0419\n",
      "Epoch 68/100\n",
      "26/26 [==============================] - 0s 6ms/step - loss: 0.0016 - mae: 0.0281 - val_loss: 0.0032 - val_mae: 0.0407\n",
      "Epoch 69/100\n",
      "26/26 [==============================] - 0s 6ms/step - loss: 0.0015 - mae: 0.0279 - val_loss: 0.0035 - val_mae: 0.0418\n",
      "Epoch 70/100\n",
      "26/26 [==============================] - 0s 6ms/step - loss: 0.0014 - mae: 0.0277 - val_loss: 0.0037 - val_mae: 0.0421\n",
      "Epoch 71/100\n",
      "26/26 [==============================] - 0s 6ms/step - loss: 0.0014 - mae: 0.0263 - val_loss: 0.0035 - val_mae: 0.0421\n",
      "Epoch 72/100\n",
      "26/26 [==============================] - 0s 6ms/step - loss: 0.0014 - mae: 0.0266 - val_loss: 0.0033 - val_mae: 0.0406\n",
      "Epoch 73/100\n",
      "26/26 [==============================] - 0s 6ms/step - loss: 0.0014 - mae: 0.0274 - val_loss: 0.0034 - val_mae: 0.0407\n",
      "Epoch 74/100\n",
      "26/26 [==============================] - 0s 6ms/step - loss: 0.0014 - mae: 0.0270 - val_loss: 0.0044 - val_mae: 0.0465\n",
      "Epoch 75/100\n",
      "26/26 [==============================] - 0s 6ms/step - loss: 0.0016 - mae: 0.0289 - val_loss: 0.0045 - val_mae: 0.0461\n",
      "Epoch 76/100\n",
      "26/26 [==============================] - 0s 6ms/step - loss: 0.0015 - mae: 0.0294 - val_loss: 0.0036 - val_mae: 0.0414\n",
      "Epoch 77/100\n",
      "26/26 [==============================] - 0s 6ms/step - loss: 0.0014 - mae: 0.0273 - val_loss: 0.0037 - val_mae: 0.0427\n",
      "Epoch 78/100\n",
      "26/26 [==============================] - 0s 6ms/step - loss: 0.0012 - mae: 0.0246 - val_loss: 0.0038 - val_mae: 0.0430\n",
      "Epoch 79/100\n",
      "26/26 [==============================] - 0s 6ms/step - loss: 0.0013 - mae: 0.0255 - val_loss: 0.0037 - val_mae: 0.0443\n",
      "Epoch 80/100\n",
      "26/26 [==============================] - 0s 6ms/step - loss: 0.0012 - mae: 0.0247 - val_loss: 0.0043 - val_mae: 0.0461\n",
      "Epoch 81/100\n",
      "26/26 [==============================] - 0s 6ms/step - loss: 0.0011 - mae: 0.0242 - val_loss: 0.0036 - val_mae: 0.0420\n",
      "Epoch 82/100\n",
      "26/26 [==============================] - 0s 6ms/step - loss: 0.0011 - mae: 0.0245 - val_loss: 0.0039 - val_mae: 0.0431\n",
      "Epoch 83/100\n",
      "26/26 [==============================] - 0s 6ms/step - loss: 0.0012 - mae: 0.0240 - val_loss: 0.0038 - val_mae: 0.0434\n",
      "Epoch 84/100\n",
      "26/26 [==============================] - 0s 6ms/step - loss: 0.0012 - mae: 0.0247 - val_loss: 0.0038 - val_mae: 0.0427\n",
      "Epoch 85/100\n",
      "26/26 [==============================] - 0s 6ms/step - loss: 0.0012 - mae: 0.0237 - val_loss: 0.0044 - val_mae: 0.0466\n",
      "Epoch 86/100\n",
      "26/26 [==============================] - 0s 6ms/step - loss: 0.0011 - mae: 0.0241 - val_loss: 0.0038 - val_mae: 0.0426\n",
      "Epoch 87/100\n",
      "26/26 [==============================] - 0s 6ms/step - loss: 0.0011 - mae: 0.0243 - val_loss: 0.0041 - val_mae: 0.0447\n",
      "Epoch 88/100\n",
      "26/26 [==============================] - 0s 6ms/step - loss: 0.0011 - mae: 0.0242 - val_loss: 0.0038 - val_mae: 0.0427\n",
      "Epoch 89/100\n",
      "26/26 [==============================] - 0s 6ms/step - loss: 0.0010 - mae: 0.0233 - val_loss: 0.0038 - val_mae: 0.0440\n",
      "Epoch 90/100\n",
      "26/26 [==============================] - 0s 6ms/step - loss: 0.0010 - mae: 0.0232 - val_loss: 0.0039 - val_mae: 0.0433\n",
      "Epoch 91/100\n",
      "26/26 [==============================] - 0s 6ms/step - loss: 0.0010 - mae: 0.0226 - val_loss: 0.0040 - val_mae: 0.0440\n",
      "Epoch 92/100\n",
      "26/26 [==============================] - 0s 6ms/step - loss: 9.7020e-04 - mae: 0.0223 - val_loss: 0.0038 - val_mae: 0.0449\n",
      "Epoch 93/100\n",
      "26/26 [==============================] - 0s 6ms/step - loss: 9.6465e-04 - mae: 0.0223 - val_loss: 0.0044 - val_mae: 0.0488\n",
      "Epoch 94/100\n",
      "26/26 [==============================] - 0s 6ms/step - loss: 9.4842e-04 - mae: 0.0224 - val_loss: 0.0045 - val_mae: 0.0467\n",
      "Epoch 95/100\n",
      "26/26 [==============================] - 0s 6ms/step - loss: 9.5355e-04 - mae: 0.0219 - val_loss: 0.0041 - val_mae: 0.0445\n",
      "Epoch 96/100\n",
      "26/26 [==============================] - 0s 6ms/step - loss: 9.5596e-04 - mae: 0.0227 - val_loss: 0.0041 - val_mae: 0.0453\n",
      "Epoch 97/100\n",
      "26/26 [==============================] - 0s 6ms/step - loss: 8.6989e-04 - mae: 0.0211 - val_loss: 0.0043 - val_mae: 0.0464\n",
      "Epoch 98/100\n",
      "26/26 [==============================] - 0s 6ms/step - loss: 8.7730e-04 - mae: 0.0211 - val_loss: 0.0043 - val_mae: 0.0473\n",
      "Epoch 99/100\n",
      "26/26 [==============================] - 0s 6ms/step - loss: 8.3937e-04 - mae: 0.0208 - val_loss: 0.0041 - val_mae: 0.0449\n",
      "Epoch 100/100\n",
      "26/26 [==============================] - 0s 6ms/step - loss: 8.9354e-04 - mae: 0.0215 - val_loss: 0.0043 - val_mae: 0.0462\n"
     ]
    },
    {
     "data": {
      "text/plain": [
       "<keras.callbacks.History at 0x206a8617100>"
      ]
     },
     "execution_count": 8,
     "metadata": {},
     "output_type": "execute_result"
    }
   ],
   "source": [
    "model.fit(X_train, y_train, epochs=100, batch_size=10, validation_split=0.2, verbose=1)"
   ]
  },
  {
   "cell_type": "markdown",
   "id": "04a3b228",
   "metadata": {},
   "source": [
    "### Evaluating model"
   ]
  },
  {
   "cell_type": "code",
   "execution_count": 9,
   "id": "7c044d6b",
   "metadata": {},
   "outputs": [
    {
     "name": "stdout",
     "output_type": "stream",
     "text": [
      "3/3 [==============================] - 0s 7ms/step - loss: 0.0058 - mae: 0.0522\n",
      "Loss: 0.005776362493634224, Mean Absolute Error: 0.05223570391535759\n"
     ]
    }
   ],
   "source": [
    "loss, mae = model.evaluate(X_test, y_test)\n",
    "print(f'Loss: {loss}, Mean Absolute Error: {mae}')"
   ]
  },
  {
   "cell_type": "markdown",
   "id": "a9bca58d",
   "metadata": {},
   "source": [
    "### Predicting on text data"
   ]
  },
  {
   "cell_type": "code",
   "execution_count": 10,
   "id": "1dd2a082",
   "metadata": {
    "scrolled": true
   },
   "outputs": [
    {
     "name": "stdout",
     "output_type": "stream",
     "text": [
      "3/3 [==============================] - 0s 4ms/step\n"
     ]
    }
   ],
   "source": [
    "y_pred = model.predict(X_test)"
   ]
  },
  {
   "cell_type": "code",
   "execution_count": 11,
   "id": "4086c5e5",
   "metadata": {},
   "outputs": [
    {
     "name": "stdout",
     "output_type": "stream",
     "text": [
      "Predicted: 0.69, Actual: 0.68\n",
      "Predicted: 0.71, Actual: 0.68\n",
      "Predicted: 0.94, Actual: 0.90\n",
      "Predicted: 0.83, Actual: 0.79\n",
      "Predicted: 0.63, Actual: 0.44\n",
      "Predicted: 0.92, Actual: 0.94\n",
      "Predicted: 0.55, Actual: 0.43\n",
      "Predicted: 0.48, Actual: 0.36\n",
      "Predicted: 0.63, Actual: 0.72\n",
      "Predicted: 0.89, Actual: 0.85\n"
     ]
    }
   ],
   "source": [
    "for i in range(10):\n",
    "    print(f'Predicted: {y_pred[i][0]:.2f}, Actual: {y_test.iloc[i]:.2f}')"
   ]
  }
 ],
 "metadata": {
  "kernelspec": {
   "display_name": "Python 3 (ipykernel)",
   "language": "python",
   "name": "python3"
  },
  "language_info": {
   "codemirror_mode": {
    "name": "ipython",
    "version": 3
   },
   "file_extension": ".py",
   "mimetype": "text/x-python",
   "name": "python",
   "nbconvert_exporter": "python",
   "pygments_lexer": "ipython3",
   "version": "3.10.9"
  }
 },
 "nbformat": 4,
 "nbformat_minor": 5
}
