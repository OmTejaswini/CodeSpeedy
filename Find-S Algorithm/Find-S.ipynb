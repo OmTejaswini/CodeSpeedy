{
 "cells": [
  {
   "cell_type": "markdown",
   "id": "3223c6ea",
   "metadata": {},
   "source": [
    "### Inporting necessary Libraries"
   ]
  },
  {
   "cell_type": "code",
   "execution_count": 1,
   "id": "0684b560",
   "metadata": {},
   "outputs": [],
   "source": [
    "import pandas as pd"
   ]
  },
  {
   "cell_type": "markdown",
   "id": "850d10d3",
   "metadata": {},
   "source": [
    "### Exploring the dataset"
   ]
  },
  {
   "cell_type": "code",
   "execution_count": 2,
   "id": "ffb5852e",
   "metadata": {},
   "outputs": [
    {
     "data": {
      "text/html": [
       "<div>\n",
       "<style scoped>\n",
       "    .dataframe tbody tr th:only-of-type {\n",
       "        vertical-align: middle;\n",
       "    }\n",
       "\n",
       "    .dataframe tbody tr th {\n",
       "        vertical-align: top;\n",
       "    }\n",
       "\n",
       "    .dataframe thead th {\n",
       "        text-align: right;\n",
       "    }\n",
       "</style>\n",
       "<table border=\"1\" class=\"dataframe\">\n",
       "  <thead>\n",
       "    <tr style=\"text-align: right;\">\n",
       "      <th></th>\n",
       "      <th>sky</th>\n",
       "      <th>air temp</th>\n",
       "      <th>humidity</th>\n",
       "      <th>wind</th>\n",
       "      <th>water</th>\n",
       "      <th>forecast</th>\n",
       "      <th>enjoy sport</th>\n",
       "    </tr>\n",
       "  </thead>\n",
       "  <tbody>\n",
       "    <tr>\n",
       "      <th>0</th>\n",
       "      <td>sunny</td>\n",
       "      <td>warm</td>\n",
       "      <td>normal</td>\n",
       "      <td>strong</td>\n",
       "      <td>warm</td>\n",
       "      <td>same</td>\n",
       "      <td>yes</td>\n",
       "    </tr>\n",
       "    <tr>\n",
       "      <th>1</th>\n",
       "      <td>sunny</td>\n",
       "      <td>warm</td>\n",
       "      <td>high</td>\n",
       "      <td>strong</td>\n",
       "      <td>warm</td>\n",
       "      <td>same</td>\n",
       "      <td>yes</td>\n",
       "    </tr>\n",
       "    <tr>\n",
       "      <th>2</th>\n",
       "      <td>rainy</td>\n",
       "      <td>cold</td>\n",
       "      <td>high</td>\n",
       "      <td>strong</td>\n",
       "      <td>warm</td>\n",
       "      <td>change</td>\n",
       "      <td>no</td>\n",
       "    </tr>\n",
       "    <tr>\n",
       "      <th>3</th>\n",
       "      <td>sunny</td>\n",
       "      <td>warm</td>\n",
       "      <td>high</td>\n",
       "      <td>strong</td>\n",
       "      <td>cool</td>\n",
       "      <td>change</td>\n",
       "      <td>yes</td>\n",
       "    </tr>\n",
       "  </tbody>\n",
       "</table>\n",
       "</div>"
      ],
      "text/plain": [
       "     sky air temp humidity    wind water forecast enjoy sport\n",
       "0  sunny     warm   normal  strong  warm     same         yes\n",
       "1  sunny     warm     high  strong  warm     same         yes\n",
       "2  rainy     cold     high  strong  warm   change          no\n",
       "3  sunny     warm     high  strong  cool   change         yes"
      ]
     },
     "execution_count": 2,
     "metadata": {},
     "output_type": "execute_result"
    }
   ],
   "source": [
    "df = pd.read_csv('./data.csv')\n",
    "df"
   ]
  },
  {
   "cell_type": "code",
   "execution_count": 3,
   "id": "416b06cf",
   "metadata": {},
   "outputs": [
    {
     "data": {
      "text/plain": [
       "(4, 7)"
      ]
     },
     "execution_count": 3,
     "metadata": {},
     "output_type": "execute_result"
    }
   ],
   "source": [
    "df.shape"
   ]
  },
  {
   "cell_type": "code",
   "execution_count": 4,
   "id": "00446e00",
   "metadata": {},
   "outputs": [
    {
     "name": "stdout",
     "output_type": "stream",
     "text": [
      "<class 'pandas.core.frame.DataFrame'>\n",
      "RangeIndex: 4 entries, 0 to 3\n",
      "Data columns (total 7 columns):\n",
      " #   Column       Non-Null Count  Dtype \n",
      "---  ------       --------------  ----- \n",
      " 0   sky          4 non-null      object\n",
      " 1   air temp     4 non-null      object\n",
      " 2   humidity     4 non-null      object\n",
      " 3   wind         4 non-null      object\n",
      " 4   water        4 non-null      object\n",
      " 5   forecast     4 non-null      object\n",
      " 6   enjoy sport  4 non-null      object\n",
      "dtypes: object(7)\n",
      "memory usage: 352.0+ bytes\n"
     ]
    }
   ],
   "source": [
    "df.info()"
   ]
  },
  {
   "cell_type": "code",
   "execution_count": 5,
   "id": "e28cc4ce",
   "metadata": {},
   "outputs": [
    {
     "name": "stdout",
     "output_type": "stream",
     "text": [
      "sky : ['sunny' 'rainy']\n",
      "air temp : ['warm' 'cold']\n",
      "humidity : ['normal' 'high']\n",
      "wind : ['strong']\n",
      "water : ['warm' 'cool']\n",
      "forecast : ['same' 'change']\n",
      "enjoy sport : ['yes' 'no']\n"
     ]
    }
   ],
   "source": [
    "for i in df.columns:\n",
    "    print(i, ':', df[i].unique())"
   ]
  },
  {
   "cell_type": "markdown",
   "id": "a011bfb7",
   "metadata": {},
   "source": [
    "### Creating concepts and target variables"
   ]
  },
  {
   "cell_type": "code",
   "execution_count": 6,
   "id": "78cd8001",
   "metadata": {},
   "outputs": [
    {
     "data": {
      "text/plain": [
       "array(['yes', 'yes', 'no', 'yes'], dtype=object)"
      ]
     },
     "execution_count": 6,
     "metadata": {},
     "output_type": "execute_result"
    }
   ],
   "source": [
    "target = df['enjoy sport'].values\n",
    "target"
   ]
  },
  {
   "cell_type": "code",
   "execution_count": 7,
   "id": "3c8da9da",
   "metadata": {},
   "outputs": [
    {
     "data": {
      "text/plain": [
       "array([['sunny', 'warm', 'normal', 'strong', 'warm', 'same'],\n",
       "       ['sunny', 'warm', 'high', 'strong', 'warm', 'same'],\n",
       "       ['rainy', 'cold', 'high', 'strong', 'warm', 'change'],\n",
       "       ['sunny', 'warm', 'high', 'strong', 'cool', 'change']],\n",
       "      dtype=object)"
      ]
     },
     "execution_count": 7,
     "metadata": {},
     "output_type": "execute_result"
    }
   ],
   "source": [
    "concepts = df[df.columns[df.columns != 'enjoy sport']].values\n",
    "concepts"
   ]
  },
  {
   "cell_type": "markdown",
   "id": "f368df43",
   "metadata": {},
   "source": [
    "### Setting initial hypothesis to most specific hypothesis"
   ]
  },
  {
   "cell_type": "code",
   "execution_count": 8,
   "id": "22c5fc56",
   "metadata": {},
   "outputs": [
    {
     "data": {
      "text/plain": [
       "['0', '0', '0', '0', '0', '0']"
      ]
     },
     "execution_count": 8,
     "metadata": {},
     "output_type": "execute_result"
    }
   ],
   "source": [
    "initial_hypothesis = ['0']*concepts.shape[1]\n",
    "initial_hypothesis"
   ]
  },
  {
   "cell_type": "markdown",
   "id": "2fe4965b",
   "metadata": {},
   "source": [
    "### Implementing Find-S algorithm"
   ]
  },
  {
   "cell_type": "code",
   "execution_count": 9,
   "id": "82df02a3",
   "metadata": {},
   "outputs": [],
   "source": [
    "rows, columns = concepts.shape\n",
    "# rows, columns\n",
    "def Find_S(initial_hypothesis):\n",
    "    for i in range(rows):    \n",
    "        if target[i] == 'yes':\n",
    "            for j in range(columns):\n",
    "                if initial_hypothesis[j] == '0':\n",
    "                    initial_hypothesis[j] = concepts[i][j]\n",
    "                elif initial_hypothesis[j] != concepts[i][j]:\n",
    "                    initial_hypothesis[j] = '?'\n",
    "        print('Step ', i+1, ': Hypothesis', initial_hypothesis)\n",
    "        \n",
    "    return initial_hypothesis"
   ]
  },
  {
   "cell_type": "markdown",
   "id": "834896f6",
   "metadata": {},
   "source": [
    "### Getting the final hypothesis"
   ]
  },
  {
   "cell_type": "code",
   "execution_count": 10,
   "id": "c4159ea4",
   "metadata": {},
   "outputs": [
    {
     "name": "stdout",
     "output_type": "stream",
     "text": [
      "Step  1 : Hypothesis ['sunny', 'warm', 'normal', 'strong', 'warm', 'same']\n",
      "Step  2 : Hypothesis ['sunny', 'warm', '?', 'strong', 'warm', 'same']\n",
      "Step  3 : Hypothesis ['sunny', 'warm', '?', 'strong', 'warm', 'same']\n",
      "Step  4 : Hypothesis ['sunny', 'warm', '?', 'strong', '?', '?']\n",
      "Final Hypothesis is :  ['sunny', 'warm', '?', 'strong', '?', '?']\n"
     ]
    }
   ],
   "source": [
    "final_hypothesis = Find_S(initial_hypothesis)\n",
    "print('Final Hypothesis is : ', final_hypothesis)"
   ]
  },
  {
   "cell_type": "code",
   "execution_count": 11,
   "id": "040ad0c0",
   "metadata": {},
   "outputs": [
    {
     "name": "stdout",
     "output_type": "stream",
     "text": [
      "Final Hypothesis is :  ['sunny', 'warm', '?', 'strong', '?', '?']\n"
     ]
    }
   ],
   "source": [
    "print('Final Hypothesis is : ', final_hypothesis)"
   ]
  }
 ],
 "metadata": {
  "kernelspec": {
   "display_name": "Python 3 (ipykernel)",
   "language": "python",
   "name": "python3"
  },
  "language_info": {
   "codemirror_mode": {
    "name": "ipython",
    "version": 3
   },
   "file_extension": ".py",
   "mimetype": "text/x-python",
   "name": "python",
   "nbconvert_exporter": "python",
   "pygments_lexer": "ipython3",
   "version": "3.10.9"
  }
 },
 "nbformat": 4,
 "nbformat_minor": 5
}
